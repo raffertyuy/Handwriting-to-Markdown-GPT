{
 "cells": [
  {
   "cell_type": "code",
   "execution_count": null,
   "metadata": {},
   "outputs": [],
   "source": [
    "import os\n",
    "from dotenv import load_dotenv\n",
    "\n",
    "load_dotenv()\n",
    "AZURE_OPENAI_ENDPOINT=os.getenv(\"AZURE_OPENAI_ENDPOINT\")\n",
    "AZURE_OPENAI_API_VERSION=os.getenv(\"AZURE_OPENAI_API_VERSION\")\n",
    "AZURE_OPENAI_DEPLOYMENT=os.getenv(\"AZURE_OPENAI_DEPLOYMENT\")"
   ]
  },
  {
   "cell_type": "code",
   "execution_count": null,
   "metadata": {},
   "outputs": [],
   "source": [
    "from openai import AzureOpenAI\n",
    "from azure.identity import DefaultAzureCredential, get_bearer_token_provider\n",
    "\n",
    "# Use the current user identity to authenticate with Azure OpenAI, Cognitive Search and Blob Storage (no secrets needed, \n",
    "# just use 'az login' locally, and managed identity when deployed on Azure). If you need to use keys, use separate AzureKeyCredential instances with the \n",
    "# keys for each service\n",
    "# If you encounter an error here are some ways to troubleshoot:\n",
    "# - you can exclude the problematic credential by using a parameter (ex. exclude_shared_token_cache_credential=True)\n",
    "# - For your credential, grant Cognitive Services User and Cognitive Services OpenAI User roles - EVEN IF YOU HAVE OWNER/ADMIN RIGHTS.\n",
    "token_provider = get_bearer_token_provider(DefaultAzureCredential(), \"https://cognitiveservices.azure.com/.default\")\n",
    "\n",
    "client = AzureOpenAI(\n",
    "  azure_endpoint = AZURE_OPENAI_ENDPOINT,\n",
    "  api_version=AZURE_OPENAI_API_VERSION,\n",
    "  azure_ad_token_provider=token_provider\n",
    ")"
   ]
  },
  {
   "cell_type": "code",
   "execution_count": null,
   "metadata": {},
   "outputs": [],
   "source": [
    "IMAGE_PATH=\"../media/image-whiteboard-stickynotes.png\""
   ]
  },
  {
   "cell_type": "code",
   "execution_count": null,
   "metadata": {},
   "outputs": [],
   "source": [
    "import base64\n",
    "\n",
    "def executeGptVision(encoded_image, system_prompt_file=None, system_prompt=None):\n",
    "    if system_prompt_file:\n",
    "        with open(system_prompt_file, \"r\") as file:\n",
    "            system_prompt = file.read()\n",
    "    elif system_prompt is None:\n",
    "        raise ValueError(\"Either filename or system_prompt must be provided.\")\n",
    "\n",
    "    messages = [\n",
    "        {\n",
    "            \"role\": \"system\",\n",
    "            \"content\": system_prompt\n",
    "        },\n",
    "        {\n",
    "            \"role\": \"user\",\n",
    "            \"content\": [\n",
    "                {\n",
    "                    \"type\": \"image_url\",\n",
    "                    \"image_url\": {\n",
    "                        \"url\": f\"data:image/jpeg;base64,{encoded_image}\"\n",
    "                    }\n",
    "                }\n",
    "            ]\n",
    "        }\n",
    "    ]\n",
    "\n",
    "    response = client.chat.completions.create(\n",
    "        model=AZURE_OPENAI_DEPLOYMENT,\n",
    "        messages=messages,\n",
    "        temperature=0\n",
    "    )\n",
    "\n",
    "    return response.choices[0].message.content"
   ]
  },
  {
   "cell_type": "code",
   "execution_count": null,
   "metadata": {},
   "outputs": [],
   "source": [
    "encoded_image = base64.b64encode(open(IMAGE_PATH, 'rb').read()).decode('ascii')\n",
    "noteType = executeGptVision(encoded_image, system_prompt_file=\"../src/prompts/detectNoteType.txt\")\n",
    "print (noteType)"
   ]
  },
  {
   "cell_type": "code",
   "execution_count": null,
   "metadata": {},
   "outputs": [],
   "source": [
    "if noteType == \"PAPER\":\n",
    "    ocrFile = \"../src/prompts/ocrPaper.txt\"\n",
    "elif noteType == \"WHITEBOARD\":\n",
    "    ocrFile = \"../src/prompts/ocrWhiteboard.txt\"\n",
    "else:\n",
    "    ocrFile = \"../src/prompts/ocrImage.txt\"\n",
    "\n",
    "extractedText = executeGptVision(encoded_image, system_prompt_file=ocrFile)\n",
    "print (extractedText)"
   ]
  },
  {
   "cell_type": "code",
   "execution_count": null,
   "metadata": {},
   "outputs": [],
   "source": [
    "def executeCompletion(text, system_prompt_file=None, system_prompt=None):\n",
    "    if system_prompt_file:\n",
    "        with open(system_prompt_file, \"r\") as file:\n",
    "            system_prompt = file.read()\n",
    "    elif system_prompt is None:\n",
    "        raise ValueError(\"Either filename or system_prompt must be provided.\")\n",
    "\n",
    "    messages = [\n",
    "        {\n",
    "            \"role\": \"system\",\n",
    "            \"content\": system_prompt\n",
    "        },\n",
    "        {\n",
    "            \"role\": \"user\",\n",
    "            \"content\": text\n",
    "        }\n",
    "    ]\n",
    "\n",
    "    response = client.chat.completions.create(\n",
    "        model=\"gpt4o\",\n",
    "        messages=messages,\n",
    "        temperature=0.3\n",
    "    )\n",
    "\n",
    "    return response.choices[0].message.content"
   ]
  },
  {
   "cell_type": "code",
   "execution_count": null,
   "metadata": {},
   "outputs": [],
   "source": [
    "if noteType == \"PAPER\" or noteType == \"WHITEBOARD\":\n",
    "    extractedText = executeCompletion(text=extractedText, system_prompt_file=\"../src/prompts/proofread.txt\")\n",
    "    print (extractedText)"
   ]
  },
  {
   "cell_type": "code",
   "execution_count": null,
   "metadata": {},
   "outputs": [],
   "source": [
    "if noteType == \"PAPER\" or noteType == \"WHITEBOARD\":\n",
    "    extractedText = executeCompletion(extractedText, system_prompt_file=\"../src/prompts/sectionHeader.txt\")\n",
    "    print (extractedText)"
   ]
  },
  {
   "cell_type": "code",
   "execution_count": null,
   "metadata": {},
   "outputs": [],
   "source": [
    "extractedText = extractedText.strip()\n",
    "if extractedText.startswith(\"```markdown\"):\n",
    "    extractedText = extractedText[len(\"```markdown\"):]\n",
    "if extractedText.endswith(\"```\"):\n",
    "    extractedText = extractedText[:-len(\"```\")]\n",
    "\n",
    "extractedText = extractedText.strip()"
   ]
  },
  {
   "cell_type": "code",
   "execution_count": null,
   "metadata": {},
   "outputs": [],
   "source": [
    "import os\n",
    "import datetime\n",
    "\n",
    "filename = os.path.basename(IMAGE_PATH)\n",
    "last_updated = datetime.datetime.fromtimestamp(os.path.getmtime(IMAGE_PATH)).strftime('%Y-%m-%d %H:%M')\n",
    "\n",
    "result = f\"\"\"---\n",
    "note-type: {noteType}\n",
    "created-date: {last_updated}\n",
    "last-updated: {last_updated}\n",
    "---\n",
    "# {filename}\n",
    "![{filename}]({IMAGE_PATH})\n",
    "{extractedText}\"\"\"\n",
    "\n",
    "# save result to output.md\n",
    "with open(\"output.md\", \"w\") as file:\n",
    "    file.write(result)\n",
    "\n",
    "print(result)\n"
   ]
  }
 ],
 "metadata": {
  "kernelspec": {
   "display_name": "Python 3",
   "language": "python",
   "name": "python3"
  },
  "language_info": {
   "codemirror_mode": {
    "name": "ipython",
    "version": 3
   },
   "file_extension": ".py",
   "mimetype": "text/x-python",
   "name": "python",
   "nbconvert_exporter": "python",
   "pygments_lexer": "ipython3",
   "version": "3.11.9"
  }
 },
 "nbformat": 4,
 "nbformat_minor": 2
}
