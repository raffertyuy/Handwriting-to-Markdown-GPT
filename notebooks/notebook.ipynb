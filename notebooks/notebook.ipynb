{
 "cells": [
  {
   "cell_type": "code",
   "execution_count": 13,
   "metadata": {},
   "outputs": [],
   "source": [
    "import os\n",
    "from dotenv import load_dotenv\n",
    "\n",
    "load_dotenv()\n",
    "AZURE_OPENAI_ENDPOINT=os.getenv(\"AZURE_OPENAI_ENDPOINT\")\n",
    "AZURE_OPENAI_API_VERSION=os.getenv(\"AZURE_OPENAI_API_VERSION\")\n",
    "AZURE_OPENAI_DEPLOYMENT=os.getenv(\"AZURE_OPENAI_DEPLOYMENT\")"
   ]
  },
  {
   "cell_type": "code",
   "execution_count": 14,
   "metadata": {},
   "outputs": [],
   "source": [
    "from openai import AzureOpenAI\n",
    "from azure.identity import DefaultAzureCredential, get_bearer_token_provider\n",
    "\n",
    "# Use the current user identity to authenticate with Azure OpenAI, Cognitive Search and Blob Storage (no secrets needed, \n",
    "# just use 'az login' locally, and managed identity when deployed on Azure). If you need to use keys, use separate AzureKeyCredential instances with the \n",
    "# keys for each service\n",
    "# If you encounter an error here are some ways to troubleshoot:\n",
    "# - you can exclude the problematic credential by using a parameter (ex. exclude_shared_token_cache_credential=True)\n",
    "# - For your credential, grant Cognitive Services User and Cognitive Services OpenAI User roles - EVEN IF YOU HAVE OWNER/ADMIN RIGHTS.\n",
    "token_provider = get_bearer_token_provider(DefaultAzureCredential(), \"https://cognitiveservices.azure.com/.default\")\n",
    "\n",
    "client = AzureOpenAI(\n",
    "  azure_endpoint = AZURE_OPENAI_ENDPOINT,\n",
    "  api_version=AZURE_OPENAI_API_VERSION,\n",
    "  azure_ad_token_provider=token_provider\n",
    ")"
   ]
  },
  {
   "cell_type": "code",
   "execution_count": 15,
   "metadata": {},
   "outputs": [],
   "source": [
    "IMAGE_PATH=\"../media/notes-sample.png\""
   ]
  },
  {
   "cell_type": "code",
   "execution_count": 16,
   "metadata": {},
   "outputs": [],
   "source": [
    "import base64\n",
    "\n",
    "def executeGptVision(encoded_image, system_prompt_file=None, system_prompt=None):\n",
    "    if system_prompt_file:\n",
    "        with open(system_prompt_file, \"r\") as file:\n",
    "            system_prompt = file.read()\n",
    "    elif system_prompt is None:\n",
    "        raise ValueError(\"Either filename or system_prompt must be provided.\")\n",
    "\n",
    "    messages = [\n",
    "        {\n",
    "            \"role\": \"system\",\n",
    "            \"content\": system_prompt\n",
    "        },\n",
    "        {\n",
    "            \"role\": \"user\",\n",
    "            \"content\": [\n",
    "                {\n",
    "                    \"type\": \"image_url\",\n",
    "                    \"image_url\": {\n",
    "                        \"url\": f\"data:image/jpeg;base64,{encoded_image}\"\n",
    "                    }\n",
    "                }\n",
    "            ]\n",
    "        }\n",
    "    ]\n",
    "\n",
    "    response = client.chat.completions.create(\n",
    "        model=AZURE_OPENAI_DEPLOYMENT,\n",
    "        messages=messages,\n",
    "        temperature=0\n",
    "    )\n",
    "\n",
    "    return response.choices[0].message.content"
   ]
  },
  {
   "cell_type": "code",
   "execution_count": 17,
   "metadata": {},
   "outputs": [
    {
     "name": "stdout",
     "output_type": "stream",
     "text": [
      "PAPER\n"
     ]
    }
   ],
   "source": [
    "encoded_image = base64.b64encode(open(IMAGE_PATH, 'rb').read()).decode('ascii')\n",
    "noteType = executeGptVision(encoded_image, system_prompt_file=\"../az-function/prompts/detectNoteType.txt\")\n",
    "print (noteType)"
   ]
  },
  {
   "cell_type": "code",
   "execution_count": 18,
   "metadata": {},
   "outputs": [
    {
     "name": "stdout",
     "output_type": "stream",
     "text": [
      "```markdown\n",
      "## 20240701 My Test Notes\n",
      "\n",
      "This is me, randomly writing something to test my app.\n",
      "\n",
      "### Attendees:\n",
      "Riff, Raynor, Jim, John, Kerrigan, Annie\n",
      "\n",
      "## MOTM\n",
      "\n",
      "Top priorities\n",
      "- More apps using Gen AI\n",
      "- Use GitHub Copilot!\n",
      "- How to integrate with Azure\n",
      "- CI/CD?\n",
      "\n",
      "### Note:\n",
      "- This is written in markdown\n",
      "- I should include drawings\n",
      "\n",
      "| July         | August         | Sept          |\n",
      "|--------------|----------------|---------------|\n",
      "| - Comms      | - Enablement   | - Execution   |\n",
      "| - Meetings   | - Workshops    | - Metrics     |\n",
      "\n",
      "```mermaid\n",
      "flowchart LR\n",
      "    Notes --> Code\n",
      "    Code --> Dev Test\n",
      "    Dev Test --> Reusable Template\n",
      "    Code --> Documentation\n",
      "```\n",
      "\n",
      "^ Hope this makes sense?\n",
      "\n",
      "_Let's write in script._\n",
      "```\n"
     ]
    }
   ],
   "source": [
    "if noteType == \"PAPER\":\n",
    "    ocrFile = \"../az-function/prompts/ocrPaper.txt\"\n",
    "elif noteType == \"WHITEBOARD\":\n",
    "    ocrFile = \"../az-function/prompts/ocrWhiteboard.txt\"\n",
    "else:\n",
    "    ocrFile = \"../az-function/prompts/ocrImage.txt\"\n",
    "\n",
    "extractedText = executeGptVision(encoded_image, system_prompt_file=ocrFile)\n",
    "print (extractedText)"
   ]
  },
  {
   "cell_type": "code",
   "execution_count": 19,
   "metadata": {},
   "outputs": [],
   "source": [
    "def executeCompletion(text, system_prompt_file=None, system_prompt=None):\n",
    "    if system_prompt_file:\n",
    "        with open(system_prompt_file, \"r\") as file:\n",
    "            system_prompt = file.read()\n",
    "    elif system_prompt is None:\n",
    "        raise ValueError(\"Either filename or system_prompt must be provided.\")\n",
    "\n",
    "    messages = [\n",
    "        {\n",
    "            \"role\": \"system\",\n",
    "            \"content\": system_prompt\n",
    "        },\n",
    "        {\n",
    "            \"role\": \"user\",\n",
    "            \"content\": text\n",
    "        }\n",
    "    ]\n",
    "\n",
    "    response = client.chat.completions.create(\n",
    "        model=\"gpt4o\",\n",
    "        messages=messages,\n",
    "        temperature=0.3\n",
    "    )\n",
    "\n",
    "    return response.choices[0].message.content"
   ]
  },
  {
   "cell_type": "code",
   "execution_count": 20,
   "metadata": {},
   "outputs": [
    {
     "name": "stdout",
     "output_type": "stream",
     "text": [
      "```markdown\n",
      "## 20240701 My Test Notes\n",
      "\n",
      "This is me, randomly writing something to test my app.\n",
      "\n",
      "### Attendees:\n",
      "Riff, Raynor, Jim, John, Kerrigan, Annie\n",
      "\n",
      "## MOTM\n",
      "\n",
      "Top priorities\n",
      "- More apps using Generative AI\n",
      "- Use GitHub Copilot!\n",
      "- How to integrate with Azure\n",
      "- Continuous Integration/Continuous Deployment?\n",
      "\n",
      "### Note:\n",
      "- This is written in markdown\n",
      "- I should include drawings\n",
      "\n",
      "| July         | August         | September     |\n",
      "|--------------|----------------|---------------|\n",
      "| - Comms      | - Enablement   | - Execution   |\n",
      "| - Meetings   | - Workshops    | - Metrics     |\n",
      "\n",
      "```mermaid\n",
      "flowchart LR\n",
      "    Notes --> Code\n",
      "    Code --> DevTest[Dev Test]\n",
      "    DevTest --> ReusableTemplate[Reusable Template]\n",
      "    Code --> Documentation\n",
      "```\n",
      "\n",
      "^ Hope this makes sense?\n",
      "\n",
      "_Let's write in script._\n",
      "```\n"
     ]
    }
   ],
   "source": [
    "if noteType == \"PAPER\" or noteType == \"WHITEBOARD\":\n",
    "    extractedText = executeCompletion(text=extractedText, system_prompt_file=\"../az-function/prompts/proofread.txt\")\n",
    "    print (extractedText)"
   ]
  },
  {
   "cell_type": "code",
   "execution_count": 21,
   "metadata": {},
   "outputs": [
    {
     "name": "stdout",
     "output_type": "stream",
     "text": [
      "```markdown\n",
      "## 20240701 My Test Notes\n",
      "\n",
      "This is me, randomly writing something to test my app.\n",
      "\n",
      "### Attendees:\n",
      "Riff, Raynor, Jim, John, Kerrigan, Annie\n",
      "\n",
      "## MOTM\n",
      "\n",
      "Top priorities\n",
      "- More apps using Generative AI\n",
      "- Use GitHub Copilot!\n",
      "- How to integrate with Azure\n",
      "- Continuous Integration/Continuous Deployment?\n",
      "\n",
      "### Note:\n",
      "- This is written in markdown\n",
      "- I should include drawings\n",
      "\n",
      "### Schedule\n",
      "| July         | August         | September     |\n",
      "|--------------|----------------|---------------|\n",
      "| - Comms      | - Enablement   | - Execution   |\n",
      "| - Meetings   | - Workshops    | - Metrics     |\n",
      "\n",
      "```mermaid\n",
      "flowchart LR\n",
      "    Notes --> Code\n",
      "    Code --> DevTest[Dev Test]\n",
      "    DevTest --> ReusableTemplate[Reusable Template]\n",
      "    Code --> Documentation\n",
      "```\n",
      "\n",
      "^ Hope this makes sense?\n",
      "\n",
      "_Let's write in script._\n",
      "```\n"
     ]
    }
   ],
   "source": [
    "if noteType == \"PAPER\" or noteType == \"WHITEBOARD\":\n",
    "    extractedText = executeCompletion(extractedText, system_prompt_file=\"../az-function/prompts/sectionHeader.txt\")\n",
    "    print (extractedText)"
   ]
  },
  {
   "cell_type": "code",
   "execution_count": 31,
   "metadata": {},
   "outputs": [
    {
     "name": "stdout",
     "output_type": "stream",
     "text": [
      "20240701 My Test Notes (Execution time: 3.886441230773926 seconds)\n",
      "20240701 My Test Notes (Execution time: 0.4628307819366455 seconds)\n"
     ]
    }
   ],
   "source": [
    "## Test, shows text completion is much faster.\n",
    "import time\n",
    "\n",
    "determine_title_prompt = \"\"\"\n",
    "Extract the main title for this image.\n",
    "- Respond with the title only.\n",
    "- If the title is in markdown, remove markdown formatting.\n",
    "- If there is no title, respond with \"NONE\".\n",
    "\"\"\"\n",
    "\n",
    "start_time = time.time()\n",
    "title = executeGptVision(encoded_image, system_prompt=determine_title_prompt)\n",
    "\n",
    "end_time = time.time()\n",
    "duration = end_time - start_time\n",
    "print(f\"{title} (Execution time: {duration} seconds)\")\n",
    "\n",
    "determine_title_prompt = f\"\"\"Extract the main title for these notes\n",
    "- Respond with the title only.\n",
    "- If the title is in markdown, remove markdown formatting.\n",
    "- If there is no title, respond with \"NONE\".\n",
    "\"\"\"\n",
    "\n",
    "start_time = time.time()\n",
    "title = executeCompletion(extractedText, system_prompt=determine_title_prompt)\n",
    "end_time = time.time()\n",
    "duration = end_time - start_time\n",
    "print(f\"{title} (Execution time: {duration} seconds)\")"
   ]
  },
  {
   "cell_type": "code",
   "execution_count": 40,
   "metadata": {},
   "outputs": [],
   "source": [
    "import datetime\n",
    "\n",
    "def get_title(extracted_text):\n",
    "    title = executeCompletion(extracted_text, system_prompt_file=\"../az-function/prompts/extractMainTitle.txt\")\n",
    "    title = title.replace(\"{DateStamp}\", datetime.datetime.now().strftime(\"%Y%m%d\"))\n",
    "    return title"
   ]
  },
  {
   "cell_type": "code",
   "execution_count": 45,
   "metadata": {},
   "outputs": [
    {
     "name": "stdout",
     "output_type": "stream",
     "text": [
      "20240713 Weekly Planning Notes\n",
      "20240713 0900 Daily Journal\n",
      "20240701 Team Offsite\n",
      "20240707 MOTM - Customer Meeting\n",
      "20240707 Key Note - Microsoft Build 2024\n",
      "20240701 My Test Notes\n"
     ]
    }
   ],
   "source": [
    "print(get_title(\"2024-07-13 Weekly Planning Notes\"))\n",
    "print(get_title(\"2024-07-13 09:00 Daily Journal\"))\n",
    "print(get_title(\"202407 Team Offsite\"))\n",
    "print(get_title(\"## MOTM - Customer Meeting\"))\n",
    "print(get_title(\"# **Key Note** - Microsoft Build _(2024)_\"))\n",
    "\n",
    "print(get_title(extractedText))"
   ]
  },
  {
   "cell_type": "code",
   "execution_count": 23,
   "metadata": {},
   "outputs": [],
   "source": [
    "extractedText = extractedText.strip()\n",
    "if extractedText.startswith(\"```markdown\"):\n",
    "    extractedText = extractedText[len(\"```markdown\"):]\n",
    "if extractedText.endswith(\"```\"):\n",
    "    extractedText = extractedText[:-len(\"```\")]\n",
    "\n",
    "extractedText = extractedText.strip()"
   ]
  },
  {
   "cell_type": "code",
   "execution_count": 24,
   "metadata": {},
   "outputs": [
    {
     "name": "stdout",
     "output_type": "stream",
     "text": [
      "---\n",
      "note-type: PAPER\n",
      "created-date: 2024-07-01 17:23\n",
      "last-updated: 2024-07-01 17:23\n",
      "---\n",
      "# notes-sample.png\n",
      "![notes-sample.png](../media/notes-sample.png)\n",
      "## 20240701 My Test Notes\n",
      "\n",
      "This is me, randomly writing something to test my app.\n",
      "\n",
      "### Attendees:\n",
      "Riff, Raynor, Jim, John, Kerrigan, Annie\n",
      "\n",
      "## MOTM\n",
      "\n",
      "Top priorities\n",
      "- More apps using Generative AI\n",
      "- Use GitHub Copilot!\n",
      "- How to integrate with Azure\n",
      "- Continuous Integration/Continuous Deployment?\n",
      "\n",
      "### Note:\n",
      "- This is written in markdown\n",
      "- I should include drawings\n",
      "\n",
      "### Schedule\n",
      "| July         | August         | September     |\n",
      "|--------------|----------------|---------------|\n",
      "| - Comms      | - Enablement   | - Execution   |\n",
      "| - Meetings   | - Workshops    | - Metrics     |\n",
      "\n",
      "```mermaid\n",
      "flowchart LR\n",
      "    Notes --> Code\n",
      "    Code --> DevTest[Dev Test]\n",
      "    DevTest --> ReusableTemplate[Reusable Template]\n",
      "    Code --> Documentation\n",
      "```\n",
      "\n",
      "^ Hope this makes sense?\n",
      "\n",
      "_Let's write in script._\n"
     ]
    }
   ],
   "source": [
    "import os\n",
    "import datetime\n",
    "\n",
    "filename = os.path.basename(IMAGE_PATH)\n",
    "last_updated = datetime.datetime.fromtimestamp(os.path.getmtime(IMAGE_PATH)).strftime('%Y-%m-%d %H:%M')\n",
    "\n",
    "result = f\"\"\"---\n",
    "note-type: {noteType}\n",
    "created-date: {last_updated}\n",
    "last-updated: {last_updated}\n",
    "---\n",
    "# {filename}\n",
    "![{filename}]({IMAGE_PATH})\n",
    "{extractedText}\"\"\"\n",
    "\n",
    "# save result to output.md\n",
    "with open(\"output.md\", \"w\") as file:\n",
    "    file.write(result)\n",
    "\n",
    "print(result)\n"
   ]
  }
 ],
 "metadata": {
  "kernelspec": {
   "display_name": "Python 3",
   "language": "python",
   "name": "python3"
  },
  "language_info": {
   "codemirror_mode": {
    "name": "ipython",
    "version": 3
   },
   "file_extension": ".py",
   "mimetype": "text/x-python",
   "name": "python",
   "nbconvert_exporter": "python",
   "pygments_lexer": "ipython3",
   "version": "3.11.9"
  }
 },
 "nbformat": 4,
 "nbformat_minor": 2
}
